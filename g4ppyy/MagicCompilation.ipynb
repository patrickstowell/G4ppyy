{
 "cells": [
  {
   "cell_type": "code",
   "execution_count": 1,
   "id": "a54fc0ea-a389-42a9-8369-ca6a892a9796",
   "metadata": {},
   "outputs": [
    {
     "name": "stdout",
     "output_type": "stream",
     "text": [
      "[G4PPYY] : Geant4 Python wrapper for CPPYY\n",
      "[G4PPYY] : author: P. Stowell\n",
      "[G4PPYY] : Loading G4 Modules.\n",
      "[G4PPYY] : G4PREFIX : /app/geant4-v11.2.2/install\n",
      "[G4PPYY] : G4VERSION : 11.2.2\n",
      "[G4PPYY] : Module loading complete.\n",
      "[G4PPYY] : Imported all definitions.\n"
     ]
    }
   ],
   "source": [
    "import g4ppyy as g4"
   ]
  },
  {
   "cell_type": "code",
   "execution_count": 8,
   "id": "646e4550-9191-4e3e-afe1-b0a58b7a7952",
   "metadata": {},
   "outputs": [
    {
     "name": "stdout",
     "output_type": "stream",
     "text": [
      "Cell already loaded.\n"
     ]
    }
   ],
   "source": [
    "%%g4_compile\n",
    "class CustomBox : G4Box {\n",
    "  public:\n",
    "    CustomBox() : G4Box(\"name\",1,1,1) {};\n",
    "\n",
    "    std::string check(){\n",
    "        return \"GOOD\";\n",
    "    };\n",
    "};"
   ]
  },
  {
   "cell_type": "code",
   "execution_count": 3,
   "id": "97af398d-2c88-4524-a835-0c5d8822197f",
   "metadata": {},
   "outputs": [
    {
     "data": {
      "text/plain": [
       "1.0"
      ]
     },
     "execution_count": 3,
     "metadata": {},
     "output_type": "execute_result"
    }
   ],
   "source": [
    "g4.test()"
   ]
  },
  {
   "cell_type": "code",
   "execution_count": 4,
   "id": "9df2c3da-4606-45ea-acf7-93f0f5986622",
   "metadata": {},
   "outputs": [],
   "source": [
    "cb = g4.CustomBox()"
   ]
  },
  {
   "cell_type": "code",
   "execution_count": 6,
   "id": "a46eeef7-92e7-48d8-b2fd-4f3f5cb4a62a",
   "metadata": {},
   "outputs": [],
   "source": [
    "val=cb.check()"
   ]
  },
  {
   "cell_type": "code",
   "execution_count": 7,
   "id": "313a111c-4b32-4c81-b0d4-0980d7dc1bf0",
   "metadata": {},
   "outputs": [
    {
     "name": "stdout",
     "output_type": "stream",
     "text": [
      "GOOD\n"
     ]
    }
   ],
   "source": [
    "print(val)"
   ]
  },
  {
   "cell_type": "code",
   "execution_count": null,
   "id": "8b014c14-cd27-4ad8-a771-524c4e35e4f6",
   "metadata": {},
   "outputs": [],
   "source": []
  }
 ],
 "metadata": {
  "kernelspec": {
   "display_name": "Python 3 (ipykernel)",
   "language": "python",
   "name": "python3"
  },
  "language_info": {
   "codemirror_mode": {
    "name": "ipython",
    "version": 3
   },
   "file_extension": ".py",
   "mimetype": "text/x-python",
   "name": "python",
   "nbconvert_exporter": "python",
   "pygments_lexer": "ipython3",
   "version": "3.9.18"
  }
 },
 "nbformat": 4,
 "nbformat_minor": 5
}
