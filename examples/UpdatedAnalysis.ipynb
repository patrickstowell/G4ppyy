{
 "cells": [
  {
   "cell_type": "code",
   "execution_count": 1,
   "id": "53228c24-ca32-480f-9286-ff55b705cae4",
   "metadata": {},
   "outputs": [
    {
     "name": "stdout",
     "output_type": "stream",
     "text": [
      "[G4PPYY] : Geant4 Python wrapper for CPPYY\n",
      "[G4PPYY] : Author: P. Stowell (p.stowell@sheffield.ac.uk)\n",
      "[G4PPYY] :         R. Foster\n",
      "[G4PPYY] : Loading G4 Modules.\n",
      "[G4PPYY] : G4PREFIX : /app/geant4-v11.2.2/install\n",
      "[G4PPYY] : G4VERSION : 11.2.2\n",
      "[G4PPYY] : Module loading complete.\n",
      "\n",
      "**************************************************************\n",
      " Geant4 version Name: geant4-11-02-patch-02 [MT]   (21-June-2024)\n",
      "                       Copyright : Geant4 Collaboration\n",
      "                      References : NIM A 506 (2003), 250-303\n",
      "                                 : IEEE-TNS 53 (2006), 270-278\n",
      "                                 : NIM A 835 (2016), 186-225\n",
      "                             WWW : http://geant4.org/\n",
      "**************************************************************\n",
      "\n",
      "[G4PPYY] : Imported all definitions.\n"
     ]
    }
   ],
   "source": [
    "import pandas as pd\n",
    "import matplotlib.pyplot as plt\n",
    "\n",
    "import g4ppyy as g4\n",
    "from g4ppyy.SI import mm, cm, m, eV, MeV, GeV, twopi, deg\n",
    "\n",
    "import random\n",
    "\n",
    "gRunManager = g4.gRunManager"
   ]
  },
  {
   "cell_type": "code",
   "execution_count": 2,
   "id": "34532542-a5f4-44bd-b55f-ccd35a32c275",
   "metadata": {},
   "outputs": [],
   "source": [
    "class custom_generator(g4.G4VUserPrimaryGeneratorAction):\n",
    "    \"Moderated Cf252 Generator\"\n",
    "    def __init__(self):\n",
    "        super().__init__()\n",
    "        self.particle = g4.G4Neutron.Definition()\n",
    "        self.particleGun = g4.G4ParticleGun()\n",
    "        self.particleGun.SetParticleDefinition(self.particle)\n",
    "        self.particleGun.SetParticleMomentumDirection(g4.G4ThreeVector(1, 0, 0))\n",
    "        self.particleGun.SetNumberOfParticles(1)  \n",
    "        self.particleGun.SetParticleTime(0)\n",
    "\n",
    "    def GeneratePrimaries(self, anEvent):\n",
    "        energy = 14 * MeV #beam_energy\n",
    "        self.particleGun.SetParticlePosition(g4.G4ThreeVector(-40*cm,-1*cm + 5*cm*random.random(),-1*cm + 5*cm*random.random()))\n",
    "        self.particleGun.SetParticleEnergy(energy)  \n",
    "        self.particleGun.GeneratePrimaryVertex(anEvent)\n",
    "\n",
    "\n",
    "class neutron_tracker(g4.G4VSensitiveDetector):\n",
    "\n",
    "    def __init__(self, name):\n",
    "        super().__init__(name)\n",
    "        \n",
    "        self.neutron_event = {\n",
    "            \"eid\": [],\n",
    "            \"edep\": [],\n",
    "            \"x\": [],\n",
    "            \"y\": [],\n",
    "            \"z\": []        \n",
    "        }\n",
    "                \n",
    "    def ProcessHits(self, aStep, ROhist):\n",
    "        \n",
    "        pdg = (aStep.GetTrack().GetParticleDefinition().GetPDGEncoding())\n",
    "        if not (pdg == 2112): return 0\n",
    "\n",
    "        eid = int(gRunManager.GetCurrentEvent().GetEventID())\n",
    "\n",
    "        self.neutron_event[\"eid\"].append( eid )\n",
    "        \n",
    "        pos = aStep.GetPreStepPoint().GetPosition() \n",
    "        dirs = aStep.GetTrack().GetMomentumDirection() \n",
    "        ek = aStep.GetPreStepPoint().GetTotalEnergy() \n",
    "\n",
    "        self.neutron_event[\"edep\"].append(aStep.GetTotalEnergyDeposit())\n",
    "        self.neutron_event[\"x\"].append(pos.x())\n",
    "        self.neutron_event[\"y\"].append(pos.y())\n",
    "        self.neutron_event[\"z\"].append(pos.z())\n",
    "        \n",
    "        aStep.GetTrack().SetTrackStatus(g4.G4TrackStatus.fStopAndKill)\n",
    "\n",
    "        return 1\n",
    "\n",
    "\n",
    "class custom_world(g4.cppyy.gbl.G4VUserDetectorConstruction):         \n",
    "    def BuildMaterials(self):\n",
    "        # Material definitions\n",
    "        self.water_mat = g4.gNistManager.FindOrBuildMaterial(\"G4_WATER\")\n",
    "\n",
    "    def BuildWorld(self):\n",
    "        # Mother Box\n",
    "        self.world = g4.builder.build_component(\"world\", solid=\"box\", x=5*m, y=5*m, z=5*m, material=self.water_mat, drawstyle=\"wireframe\")\n",
    "\n",
    "        # World Geometries        \n",
    "        self.hdpe_outer   = g4.builder.build_component(\"shell\", solid=\"tubs\", rot=[90*deg, 0.0, 0.0], rmax=22*cm, z=1.2*m/2, mother=self.world, material=\"G4_POLYETHYLENE\", color=[0.0,0.0,1.0,0.8], drawstyle=\"solid\")\n",
    "        self.water_inner  = g4.builder.build_component(\"water\", solid=\"tubs\", rmax=18*cm, z=1.2*m/2, mother=self.hdpe_outer, material=\"G4_WATER\", color=[0.5,0.5,1.0,0.1], drawstyle=\"solid\")\n",
    "        self.hdpe_endcap1 = g4.builder.build_component(\"cap1\", solid=\"tubs\", rmax=18*cm, z=1*cm, mother=self.water_inner, material=\"G4_POLYETHYLENE\", color=[1.0,0.2,1.0,0.8], drawstyle=\"solid\", pos=[0.0, 0.0, +1.2*m/2 - 1*cm])\n",
    "        self.hdpe_endcap2 = g4.builder.build_component(\"cap2\", solid=\"tubs\", rmax=18*cm, z=1*cm, mother=self.water_inner, material=\"G4_POLYETHYLENE\", color=[1.0,0.2,1.0,0.8], drawstyle=\"solid\", pos=[0.0, 0.0, -1.2*m/2 + 1*cm])\n",
    "\n",
    "        self.hdpe_endcap3 = g4.builder.build_component(\"cap3\", solid=\"sphere\", rmax=18*cm, z=1*cm, mother=self.world, material=\"G4_POLYETHYLENE\", color=[1.0,0.1,1.0,0.8], drawstyle=\"solid\", pos=[+2.0*m, 0.0, -1.2*m/2 + 1*cm])\n",
    "        self.hdpe_endcap4 = g4.builder.build_component(\"cap4\", solid=\"box\", x=30*cm, y=12*cm, z=10*cm, mother=self.world, material=\"G4_POLYETHYLENE\", color=[1.0,1.0,0.1,0.8], drawstyle=\"solid\", pos=[0.0*m, +1.0*m, -1.2*m/2 + 1*cm])\n",
    "\n",
    "    def BuildDetectors(self):\n",
    "        # Sensitive Volume Definitions\n",
    "        self.hdpe_det = neutron_tracker(\"hdpe_det\")\n",
    "        self.world_det = neutron_tracker(\"world_det\")\n",
    "        \n",
    "        self.world.GetLogicalVolume().SetSensitiveDetector(self.world_det)\n",
    "        self.hdpe_outer.GetLogicalVolume().SetSensitiveDetector(self.hdpe_det)\n",
    "\n",
    "    def Construct(self):\n",
    "        self.BuildMaterials()\n",
    "        self.BuildWorld()\n",
    "        self.BuildDetectors()\n",
    "        \n",
    "        # Return the mother\n",
    "        return self.world # top mother volume\n"
   ]
  },
  {
   "cell_type": "code",
   "execution_count": 3,
   "id": "ed164c93-8157-4ae5-ac88-5a979ed1b736",
   "metadata": {},
   "outputs": [
    {
     "name": "stdout",
     "output_type": "stream",
     "text": [
      "<<< Geant4 Physics List simulation engine: QGSP_BERT\n",
      "\n",
      "Vis Executive already set!\n",
      "Running initializer\n",
      "Available UI session types: [ tcsh, csh ]\n",
      "### Adding tracking cuts for neutron  TimeCut(ns)= 10000  KinEnergyCut(MeV)= 0\n"
     ]
    },
    {
     "data": {
      "application/vnd.jupyter.widget-view+json": {
       "model_id": "fcbd5af5331642a5b6737b93151c701b",
       "version_major": 2,
       "version_minor": 0
      },
      "text/plain": [
       "Output()"
      ]
     },
     "metadata": {},
     "output_type": "display_data"
    },
    {
     "name": "stdout",
     "output_type": "stream",
     "text": [
      "50000 0 50000\n"
     ]
    },
    {
     "name": "stderr",
     "output_type": "stream",
     "text": [
      "/usr/local/lib/python3.9/site-packages/traittypes/traittypes.py:97: UserWarning: Given trait value dtype \"uint32\" does not match required type \"float32\". A coerced copy has been created.\n",
      "  warnings.warn(\n"
     ]
    },
    {
     "name": "stdout",
     "output_type": "stream",
     "text": [
      "50000 19067 50000\n",
      "FINISHED\n"
     ]
    }
   ],
   "source": [
    "# Add Physics List\n",
    "physics = g4.QGSP_BERT()\n",
    "gRunManager.SetUserInitialization(physics)\n",
    "\n",
    "# Add a World\n",
    "detector = custom_world()\n",
    "gRunManager.SetUserInitialization(detector)\n",
    "\n",
    "# Add a Generator\n",
    "gen = custom_generator()\n",
    "gRunManager.SetUserAction(gen)\n",
    "\n",
    "# Add standard GEANT4 Actions\n",
    "g4.run.add_default_actions(gRunManager)\n",
    "\n",
    "# Setup vis to check geometry (optioonal)\n",
    "g4.run.create_visualization(gRunManager)\n",
    "\n",
    "g4.mc.vis.scene.add.trajectories(\"rich\")\n",
    "traj_mc = g4.mc.vis.modeling.trajectories\n",
    "traj_mc.create.drawByCharge()\n",
    "\n",
    "# Generate some events\n",
    "g4.run.handle_beam(gRunManager, 1000)\n",
    "\n",
    "# Draw the vis plot (optional)\n",
    "g4.run.draw_visualization(gRunManager)\n",
    "\n",
    "print(\"FINISHED\")"
   ]
  },
  {
   "cell_type": "code",
   "execution_count": 4,
   "id": "ff08c2d9-2887-4929-88ea-f0605d0db6cf",
   "metadata": {},
   "outputs": [],
   "source": [
    "# !python3 -m site"
   ]
  },
  {
   "cell_type": "code",
   "execution_count": 5,
   "id": "6d347e55-c3b5-4f1a-96d8-fa17d70f1dd6",
   "metadata": {},
   "outputs": [],
   "source": [
    "# !grep \"create_mpl_visualization\" /usr/local/lib/python3.9/site-packages/g4ppyy/*"
   ]
  },
  {
   "cell_type": "code",
   "execution_count": null,
   "id": "c58c1457-92f1-465b-982f-720181693d21",
   "metadata": {},
   "outputs": [],
   "source": []
  },
  {
   "cell_type": "code",
   "execution_count": null,
   "id": "47c5617e-4ccb-44e6-8ec1-cb10c774cd94",
   "metadata": {},
   "outputs": [],
   "source": []
  },
  {
   "cell_type": "code",
   "execution_count": null,
   "id": "8b8d42fd-53bd-4e3b-ac34-f12714e3ea96",
   "metadata": {},
   "outputs": [],
   "source": [
    "\n"
   ]
  }
 ],
 "metadata": {
  "kernelspec": {
   "display_name": "Python 3 (ipykernel)",
   "language": "python",
   "name": "python3"
  },
  "language_info": {
   "codemirror_mode": {
    "name": "ipython",
    "version": 3
   },
   "file_extension": ".py",
   "mimetype": "text/x-python",
   "name": "python",
   "nbconvert_exporter": "python",
   "pygments_lexer": "ipython3",
   "version": "3.9.18"
  }
 },
 "nbformat": 4,
 "nbformat_minor": 5
}
