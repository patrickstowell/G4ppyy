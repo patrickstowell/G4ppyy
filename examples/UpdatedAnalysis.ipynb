{
 "cells": [
  {
   "cell_type": "code",
   "execution_count": 1,
   "id": "53228c24-ca32-480f-9286-ff55b705cae4",
   "metadata": {},
   "outputs": [
    {
     "name": "stdout",
     "output_type": "stream",
     "text": [
      "[G4PPYY] : Geant4 Python wrapper for CPPYY\n",
      "[G4PPYY] : author: P. Stowell\n",
      "[G4PPYY] : Loading G4 Modules.\n",
      "[G4PPYY] : G4PREFIX : /Users/stowell/Research/Software/G4/Geant4-11.1.1-Darwin\n",
      "[G4PPYY] : G4VERSION : 11.1.1\n",
      "[G4PPYY] : Failed to load :  ['G4ToolsSG', 'G3toG4'] 2\n",
      "[G4PPYY] : Failed to load :  ['G4ToolsSG', 'G3toG4'] 2\n",
      "[G4PPYY] : Failed to load :  ['G4ToolsSG', 'G3toG4'] 2\n",
      "[G4PPYY] : Failed to load :  ['G4ToolsSG', 'G3toG4'] 2\n",
      "[G4PPYY] : Failed to load :  ['G4ToolsSG', 'G3toG4'] 2\n",
      "[G4PPYY] : Module loading complete.\n",
      "Calling get attr <class cppyy.gbl.G4RunManager at 0x7fcec11d3e10>\n",
      "Calling get attr <class cppyy.gbl.G4VUserPrimaryGeneratorAction at 0x7fceb7fa1c10>\n",
      "Calling get attr <class cppyy.gbl.QGSP_BERT_HP at 0x7fcea691ce10>\n",
      "Calling get attr <class cppyy.gbl.QGSP_BERT at 0x7fcec129e210>\n",
      "Calling get attr <class cppyy.gbl.G4OpticalPhysics at 0x7fceb7dabc10>\n",
      "Calling get attr <class cppyy.gbl.G4NistManager at 0x7fcec102ec10>\n",
      "Calling get attr <class cppyy.gbl.G4VPhysicalVolume at 0x7fcec129f210>\n",
      "Calling get attr <class cppyy.gbl.G4LogicalVolume at 0x7fcec1260410>\n",
      "Calling get attr <class cppyy.gbl.G4VisAttributes at 0x7fcec10afc10>\n",
      "Calling get attr <class cppyy.gbl.G4Colour at 0x7fcec6d83210>\n",
      "Calling get attr <class cppyy.gbl.G4VSolid at 0x7fcec12c5010>\n",
      "Calling get attr <class cppyy.gbl.G4Box at 0x7fcec1127810>\n",
      "Calling get attr <class cppyy.gbl.G4Sphere at 0x7fcec1129a10>\n",
      "Calling get attr <class cppyy.gbl.G4Tubs at 0x7fcecc4c6810>\n",
      "Calling get attr <class cppyy.gbl.G4VSensitiveDetector at 0x7fcecc504c10>\n",
      "Calling get attr <class cppyy.gbl.G4Material at 0x7fcecc506810>\n",
      "Calling get attr <class cppyy.gbl.G4Element at 0x7fcecc508c10>\n",
      "Calling get attr <class cppyy.gbl.G4NistManager at 0x7fcec102ec10>\n",
      "G4VP :  <class cppyy.gbl.G4VPhysicalVolume at 0x7fcec129f210>\n",
      "[G4PPYY] : Imported all definitions.\n",
      "\n",
      "**************************************************************\n",
      " Geant4 version Name: geant4-11-00 [MT]   (10-December-2021)\n",
      "                       Copyright : Geant4 Collaboration\n",
      "                      References : NIM A 506 (2003), 250-303\n",
      "                                 : IEEE-TNS 53 (2006), 270-278\n",
      "                                 : NIM A 835 (2016), 186-225\n",
      "                             WWW : http://geant4.org/\n",
      "**************************************************************\n",
      "\n"
     ]
    },
    {
     "data": {
      "text/plain": [
       "True"
      ]
     },
     "execution_count": 1,
     "metadata": {},
     "output_type": "execute_result"
    }
   ],
   "source": [
    "#!/usr/bin/env python\n",
    "# coding: utf-8\n",
    "# In[1]:\n",
    "import os\n",
    "# os.environ[\"PYTHONPATH\"]=\"/custom\"\n",
    "import cppyy.ll\n",
    "cppyy.ll.set_signals_as_exception(True)\n",
    "import pandas as pd\n",
    "import matplotlib.pyplot as plt\n",
    "\n",
    "import g4ppyy as g4\n",
    "from g4ppyy.SI import mm, cm, m, eV, MeV, GeV, twopi, deg\n",
    "\n",
    "import random\n",
    "gRunManager = g4.G4RunManager()\n",
    "# gRunManager = g4.G4RunManager();\n",
    "g4.cppyy.load_library(\"libG4vis_management.dylib\")\n",
    "g4.cppyy.load_library(\"libG4graphics_reps.dylib\")\n"
   ]
  },
  {
   "cell_type": "code",
   "execution_count": null,
   "id": "be4e82ba-8171-484a-b102-bd40351c7bfb",
   "metadata": {},
   "outputs": [],
   "source": []
  },
  {
   "cell_type": "code",
   "execution_count": 2,
   "id": "3f4cfacb-0747-4f53-bac4-8504049814cd",
   "metadata": {},
   "outputs": [
    {
     "data": {
      "text/plain": [
       "True"
      ]
     },
     "execution_count": 2,
     "metadata": {},
     "output_type": "execute_result"
    }
   ],
   "source": [
    "g4.cppyy.include(\"G4VUserDetectorConstruction.hh\")\n",
    "g4.cppyy.include(\"G4VUserPrimaryGeneratorAction.hh\")\n",
    "g4.cppyy.include(\"G4VPhysicalVolume.hh\")"
   ]
  },
  {
   "cell_type": "code",
   "execution_count": null,
   "id": "969755dc-9c00-404a-90dd-74479b5a128b",
   "metadata": {},
   "outputs": [],
   "source": []
  },
  {
   "cell_type": "code",
   "execution_count": 3,
   "id": "34532542-a5f4-44bd-b55f-ccd35a32c275",
   "metadata": {},
   "outputs": [],
   "source": [
    "\n",
    "class custom_generator(g4.G4VUserPrimaryGeneratorAction):\n",
    "    \"Moderated Cf252 Generator\"\n",
    "    def __init__(self):\n",
    "        super().__init__()\n",
    "        self.particle = g4.G4Neutron.Definition()\n",
    "        self.particleGun = g4.G4ParticleGun()\n",
    "        self.particleGun.SetParticleDefinition(self.particle)\n",
    "        self.particleGun.SetParticleMomentumDirection(g4.G4ThreeVector(1, 0, 0))\n",
    "        self.particleGun.SetNumberOfParticles(1)  \n",
    "        self.particleGun.SetParticleTime(0)\n",
    "\n",
    "    def GeneratePrimaries(self, anEvent):\n",
    "        energy = 14 * MeV #beam_energy\n",
    "        self.particleGun.SetParticlePosition(g4.G4ThreeVector(-40*cm,-1*cm + 5*cm*random.random(),-1*cm + 5*cm*random.random()))\n",
    "        self.particleGun.SetParticleEnergy(energy)  \n",
    "        self.particleGun.GeneratePrimaryVertex(anEvent)\n",
    "\n",
    "\n",
    "\n",
    "class neutron_tracker(g4.G4VSensitiveDetector):\n",
    "\n",
    "    def Reset(self):\n",
    "        self.neutron_event = {\n",
    "            \"eid\": [],\n",
    "            \"edep\": [],\n",
    "            \"x\": [],\n",
    "            \"y\": [],\n",
    "            \"z\": []        \n",
    "        }\n",
    "                \n",
    "    def ProcessHits(self, aStep, ROhist):\n",
    "        \n",
    "        pdg = (aStep.GetTrack().GetParticleDefinition().GetPDGEncoding())\n",
    "        if not (pdg == 2112): return 0\n",
    "\n",
    "        eid = int(gRunManager.GetCurrentEvent().GetEventID())\n",
    "\n",
    "        self.neutron_event[\"eid\"].append( eid )\n",
    "        \n",
    "        pos = aStep.GetPreStepPoint().GetPosition() \n",
    "        dirs = aStep.GetTrack().GetMomentumDirection() \n",
    "        ek = aStep.GetPreStepPoint().GetTotalEnergy() \n",
    "\n",
    "        self.neutron_event[\"edep\"].append(aStep.GetTotalEnergyDeposit())\n",
    "        self.neutron_event[\"x\"].append(pos.x())\n",
    "        self.neutron_event[\"y\"].append(pos.y())\n",
    "        self.neutron_event[\"z\"].append(pos.z())\n",
    "        \n",
    "        aStep.GetTrack().SetTrackStatus(g4.G4TrackStatus.fStopAndKill)\n",
    "\n",
    "        return 1\n",
    "\n",
    "    def StartOfRunAction(self):\n",
    "        self.Reset()\n",
    "\n",
    "    def EndOfRunAction(self):\n",
    "        self.df = pd.DataFrame(data=self.neutron_event)\n",
    "\n",
    "    def VisualizationAction(self):\n",
    "        \n",
    "        plt.scatter(self.df.x, self.df.y, c=self.df.edep)\n",
    "        plt.title(str(self.GetName()) + \" : XY Edep\")\n",
    "        plt.xlabel(\"x [mm]\")\n",
    "        plt.ylabel(\"z [mm]\")\n",
    "        plt.show()\n",
    "        \n",
    "        plt.scatter(self.df.x, self.df.z, c=self.df.edep)\n",
    "        plt.title(str(self.GetName()) + \" : XZ Edep\")\n",
    "        plt.xlabel(\"x [mm]\")\n",
    "        plt.xlabel(\"z [mm]\")\n",
    "        \n",
    "        \n",
    "        plt.show()\n",
    "\n",
    "\n",
    "class custom_world(g4.cppyy.gbl.G4VUserDetectorConstruction):         \n",
    "    def BuildMaterials(self):\n",
    "        # Material definitions\n",
    "        self.water_mat = g4.gNistManager.FindOrBuildMaterial(\"G4_WATER\")\n",
    "\n",
    "    def BuildWorld(self):\n",
    "        # Mother Box\n",
    "        print(\"Building the mother box\")\n",
    "        self.world = g4.builder.build_component(\"world\", solid=\"box\", x=5*m, y=5*m, z=5*m, material=self.water_mat)\n",
    "\n",
    "        # World Geometries\n",
    "        print(\"Building endcap\")\n",
    "        \n",
    "        self.hdpe_outer = g4.builder.build_component(\"shell\", solid=\"tubs\", rot=[90*deg, 0.0, 0.0], rmax=22*cm, z=1.2*m/2, mother=self.world, material=\"G4_POLYETHYLENE\", color=[0.0,0.0,1.0,0.8], drawstyle=\"solid\")\n",
    "        self.water_inner = g4.builder.build_component(\"water\", solid=\"tubs\", rmax=18*cm, z=1.2*m/2, mother=self.hdpe_outer, material=\"G4_WATER\", color=[0.5,0.5,1.0,0.1], drawstyle=\"solid\")\n",
    "        self.hdpe_endcap1 = g4.builder.build_component(\"cap1\", solid=\"tubs\", rmax=18*cm, z=1*cm, mother=self.water_inner, material=\"G4_POLYETHYLENE\", color=[1.0,0.2,1.0,0.8], drawstyle=\"solid\", pos=[0.0, 0.0, +1.2*m/2 - 1*cm])\n",
    "        self.hdpe_endcap2 = g4.builder.build_component(\"cap2\", solid=\"tubs\", rmax=18*cm, z=1*cm, mother=self.water_inner, material=\"G4_POLYETHYLENE\", color=[1.0,0.2,1.0,0.8], drawstyle=\"solid\", pos=[0.0, 0.0, -1.2*m/2 + 1*cm])\n",
    "\n",
    "        self.hdpe_endcap3 = g4.builder.build_component(\"cap3\", solid=\"sphere\", rmax=18*cm, z=1*cm, mother=self.world, material=\"G4_POLYETHYLENE\", color=[1.0,0.1,1.0,0.8], drawstyle=\"solid\", pos=[+2.0*m, 0.0, -1.2*m/2 + 1*cm])\n",
    "        self.hdpe_endcap4 = g4.builder.build_component(\"cap4\", solid=\"box\", x=30*cm, y=12*cm, z=10*cm, mother=self.world, material=\"G4_POLYETHYLENE\", color=[1.0,1.0,0.1,0.8], drawstyle=\"solid\", pos=[0.0*m, +1.0*m, -1.2*m/2 + 1*cm])\n",
    "\n",
    "    def BuildDetectors(self):\n",
    "        # Sensitive Volume Definitions\n",
    "        self.hdpe_det = neutron_tracker(\"hdpe_det\")\n",
    "        self.world_det = neutron_tracker(\"world_det\")\n",
    "        \n",
    "        self.world.GetLogicalVolume().SetSensitiveDetector(self.world_det)\n",
    "        self.hdpe_outer.GetLogicalVolume().SetSensitiveDetector(self.hdpe_det)\n",
    "\n",
    "        g4.run.register_detector_hooks(detector.hdpe_det)\n",
    "        g4.run.register_detector_hooks(detector.world_det)\n",
    "\n",
    "    def Construct(self):\n",
    "        self.BuildMaterials()\n",
    "        self.BuildWorld()\n",
    "        self.BuildDetectors()\n",
    "        \n",
    "        # Return the mother\n",
    "        return self.world # top mother volume\n"
   ]
  },
  {
   "cell_type": "code",
   "execution_count": 4,
   "id": "ed164c93-8157-4ae5-ac88-5a979ed1b736",
   "metadata": {},
   "outputs": [
    {
     "name": "stdout",
     "output_type": "stream",
     "text": [
      "<<< Geant4 Physics List simulation engine: QGSP_BERT\n",
      "\n"
     ]
    },
    {
     "name": "stderr",
     "output_type": "stream",
     "text": [
      "IncrementalExecutor::executeFunction: symbol '_ZN12G4VisManager12DrawGeometryEP17G4VPhysicalVolumeRKN7HepGeom11Transform3DE' unresolved while linking symbol '__cf_32'!\n",
      "You are probably missing the definition of G4VisManager::DrawGeometry(G4VPhysicalVolume*, HepGeom::Transform3D const&)\n",
      "Maybe you need to load the corresponding shared library?\n"
     ]
    },
    {
     "ename": "TypeError",
     "evalue": "none of the 2 overloaded methods succeeded. Full details:\n  Dispatcher4::Dispatcher4(const G4String& a0) =>\n    TypeError: could not convert argument 1\n  Dispatcher4::Dispatcher4() =>\n    TypeError: takes at most 0 arguments (1 given)",
     "output_type": "error",
     "traceback": [
      "\u001b[0;31m---------------------------------------------------------------------------\u001b[0m",
      "\u001b[0;31mTypeError\u001b[0m                                 Traceback (most recent call last)",
      "Cell \u001b[0;32mIn[4], line 18\u001b[0m\n\u001b[1;32m     15\u001b[0m g4\u001b[38;5;241m.\u001b[39mrun\u001b[38;5;241m.\u001b[39madd_default_actions(gRunManager)\n\u001b[1;32m     17\u001b[0m \u001b[38;5;66;03m# Setup vis to check geometry (optioonal)\u001b[39;00m\n\u001b[0;32m---> 18\u001b[0m \u001b[43mg4\u001b[49m\u001b[38;5;241;43m.\u001b[39;49m\u001b[43mrun\u001b[49m\u001b[38;5;241;43m.\u001b[39;49m\u001b[43mcreate_visualization\u001b[49m\u001b[43m(\u001b[49m\u001b[43mgRunManager\u001b[49m\u001b[43m)\u001b[49m\n\u001b[1;32m     20\u001b[0m \u001b[38;5;66;03m# Generate some events\u001b[39;00m\n\u001b[1;32m     21\u001b[0m g4\u001b[38;5;241m.\u001b[39mrun\u001b[38;5;241m.\u001b[39mhandle_beam(gRunManager, \u001b[38;5;241m1000\u001b[39m)\n",
      "File \u001b[0;32m~/.envs/g4ppyy/lib/python3.12/site-packages/g4ppyy-0.1.0-py3.12.egg/g4ppyy/run.py:99\u001b[0m, in \u001b[0;36mcreate_visualization\u001b[0;34m(gRunManager)\u001b[0m\n\u001b[1;32m     97\u001b[0m \u001b[38;5;28;01mglobal\u001b[39;00m visManager\n\u001b[1;32m     98\u001b[0m \u001b[38;5;28;01mif\u001b[39;00m \u001b[38;5;129;01mnot\u001b[39;00m visManager:\n\u001b[0;32m---> 99\u001b[0m     visManager \u001b[38;5;241m=\u001b[39m \u001b[43m_vis\u001b[49m\u001b[38;5;241;43m.\u001b[39;49m\u001b[43mbuild\u001b[49m\u001b[43m(\u001b[49m\u001b[38;5;124;43m\"\u001b[39;49m\u001b[38;5;124;43mK3D\u001b[39;49m\u001b[38;5;124;43m\"\u001b[39;49m\u001b[43m,\u001b[49m\u001b[43m \u001b[49m\u001b[38;5;124;43m\"\u001b[39;49m\u001b[38;5;124;43mquiet\u001b[39;49m\u001b[38;5;124;43m\"\u001b[39;49m\u001b[43m)\u001b[49m\n\u001b[1;32m    100\u001b[0m     \u001b[38;5;28mprint\u001b[39m(\u001b[38;5;124m\"\u001b[39m\u001b[38;5;124mRunning initializer\u001b[39m\u001b[38;5;124m\"\u001b[39m)\n\u001b[1;32m    102\u001b[0m \u001b[38;5;28;01mglobal\u001b[39;00m ui\n",
      "File \u001b[0;32m~/.envs/g4ppyy/lib/python3.12/site-packages/g4ppyy-0.1.0-py3.12.egg/g4ppyy/vis.py:24\u001b[0m, in \u001b[0;36mbuild\u001b[0;34m(option, settings)\u001b[0m\n\u001b[1;32m     22\u001b[0m \u001b[38;5;28;01mglobal\u001b[39;00m visManager\n\u001b[1;32m     23\u001b[0m \u001b[38;5;28;01mif\u001b[39;00m \u001b[38;5;129;01mnot\u001b[39;00m visManager:\n\u001b[0;32m---> 24\u001b[0m     visManager \u001b[38;5;241m=\u001b[39m \u001b[43mPyCRUSTVisExecutive\u001b[49m\u001b[43m(\u001b[49m\u001b[38;5;124;43m\"\u001b[39;49m\u001b[38;5;124;43mquiet\u001b[39;49m\u001b[38;5;124;43m\"\u001b[39;49m\u001b[43m)\u001b[49m\n\u001b[1;32m     25\u001b[0m     visManager\u001b[38;5;241m.\u001b[39mInitialize()\n\u001b[1;32m     27\u001b[0m _lazy_loader\u001b[38;5;241m.\u001b[39massign(\u001b[38;5;124m\"\u001b[39m\u001b[38;5;124mgVisExecutive\u001b[39m\u001b[38;5;124m\"\u001b[39m, gVisExecutive)\n",
      "\u001b[0;31mTypeError\u001b[0m: none of the 2 overloaded methods succeeded. Full details:\n  Dispatcher4::Dispatcher4(const G4String& a0) =>\n    TypeError: could not convert argument 1\n  Dispatcher4::Dispatcher4() =>\n    TypeError: takes at most 0 arguments (1 given)"
     ]
    }
   ],
   "source": [
    "# In [4]:\n",
    "# Add Physics List\n",
    "physics = g4.QGSP_BERT()\n",
    "gRunManager.SetUserInitialization(physics)\n",
    "\n",
    "# Add a World\n",
    "detector = custom_world()\n",
    "gRunManager.SetUserInitialization(detector)\n",
    "\n",
    "# Add a Generator\n",
    "gen = custom_generator()\n",
    "gRunManager.SetUserAction(gen)\n",
    "\n",
    "# Add standard GEANT4 Actions\n",
    "g4.run.add_default_actions(gRunManager)\n",
    "\n",
    "# Setup vis to check geometry (optioonal)\n",
    "g4.run.create_visualization(gRunManager)\n",
    "\n",
    "# Generate some events\n",
    "g4.run.handle_beam(gRunManager, 1000)\n",
    "\n",
    "# Draw the vis plot (optional)\n",
    "g4.run.draw_visualization(gRunManager)\n",
    "\n",
    "print(\"FINISHED\")"
   ]
  },
  {
   "cell_type": "code",
   "execution_count": null,
   "id": "51e8505b-fb16-4e85-a982-d11fe5396d30",
   "metadata": {},
   "outputs": [],
   "source": []
  }
 ],
 "metadata": {
  "kernelspec": {
   "display_name": "Python 3 (ipykernel)",
   "language": "python",
   "name": "python3"
  },
  "language_info": {
   "codemirror_mode": {
    "name": "ipython",
    "version": 3
   },
   "file_extension": ".py",
   "mimetype": "text/x-python",
   "name": "python",
   "nbconvert_exporter": "python",
   "pygments_lexer": "ipython3",
   "version": "3.12.7"
  }
 },
 "nbformat": 4,
 "nbformat_minor": 5
}
